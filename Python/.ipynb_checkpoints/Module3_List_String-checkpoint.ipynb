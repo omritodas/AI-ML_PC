{
 "cells": [
  {
   "cell_type": "code",
   "execution_count": 1,
   "id": "58d9d1f0-5308-4bdd-a648-0bbd6efa3844",
   "metadata": {},
   "outputs": [
    {
     "name": "stdout",
     "output_type": "stream",
     "text": [
      "omrito\n"
     ]
    }
   ],
   "source": [
    "new=\"omrito\"\n",
    "print(new)"
   ]
  },
  {
   "cell_type": "code",
   "execution_count": 2,
   "id": "bc8b1574-c711-4ef2-9648-ca808f75ffa4",
   "metadata": {},
   "outputs": [
    {
     "name": "stdout",
     "output_type": "stream",
     "text": [
      "how are you.\n",
      "i am good.\n",
      "what about you.\n",
      "\n"
     ]
    }
   ],
   "source": [
    "massage=\"\"\"how are you.\n",
    "i am good.\n",
    "what about you.\n",
    "\"\"\"\n",
    "print(massage)"
   ]
  },
  {
   "cell_type": "code",
   "execution_count": null,
   "id": "125a99a5-3f88-4ba9-adfc-14bdeae7bb64",
   "metadata": {},
   "outputs": [],
   "source": []
  }
 ],
 "metadata": {
  "kernelspec": {
   "display_name": "Python 3 (ipykernel)",
   "language": "python",
   "name": "python3"
  },
  "language_info": {
   "codemirror_mode": {
    "name": "ipython",
    "version": 3
   },
   "file_extension": ".py",
   "mimetype": "text/x-python",
   "name": "python",
   "nbconvert_exporter": "python",
   "pygments_lexer": "ipython3",
   "version": "3.13.5"
  }
 },
 "nbformat": 4,
 "nbformat_minor": 5
}
