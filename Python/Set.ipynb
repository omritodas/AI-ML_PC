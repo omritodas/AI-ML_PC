{
 "cells": [
  {
   "cell_type": "markdown",
   "id": "d1f8de08",
   "metadata": {},
   "source": [
    "## For Unique Value"
   ]
  },
  {
   "cell_type": "code",
   "execution_count": 11,
   "id": "984a93d5",
   "metadata": {},
   "outputs": [
    {
     "name": "stdout",
     "output_type": "stream",
     "text": [
      "{50, 20, 40, 10, 30}\n",
      "Found\n",
      "{20, 40, 10, 30, 200}\n",
      "{400, 20, 40, 10, 600, 30, 200}\n",
      "{20}\n",
      "False\n",
      "True\n"
     ]
    }
   ],
   "source": [
    "#Decratation\n",
    "\n",
    "set={10,20,10,30,40,50}\n",
    "\n",
    "print(set)\n",
    "\n",
    "set.add(200)\n",
    "\n",
    "if 200 in set:\n",
    "\n",
    "    print(\"Found\")\n",
    "\n",
    "#delet First Element\n",
    "\n",
    "set.pop()\n",
    "\n",
    "print(set)\n",
    "\n",
    "#Union\n",
    "\n",
    "set1={20,600,400}\n",
    "\n",
    "print((set.union(set1)))\n",
    "\n",
    "#Intersection\n",
    "\n",
    "print((set.intersection(set1)))\n",
    "\n",
    "#Disjoint\n",
    "\n",
    "print((set.isdisjoint(set1)))\n",
    "\n",
    "#Check Subset\n",
    "\n",
    "subset={10,20}\n",
    "\n",
    "print((subset.issubset(set)))"
   ]
  }
 ],
 "metadata": {
  "kernelspec": {
   "display_name": "base",
   "language": "python",
   "name": "python3"
  },
  "language_info": {
   "codemirror_mode": {
    "name": "ipython",
    "version": 3
   },
   "file_extension": ".py",
   "mimetype": "text/x-python",
   "name": "python",
   "nbconvert_exporter": "python",
   "pygments_lexer": "ipython3",
   "version": "3.13.5"
  }
 },
 "nbformat": 4,
 "nbformat_minor": 5
}
