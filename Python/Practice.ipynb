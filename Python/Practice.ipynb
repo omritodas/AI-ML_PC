{
 "cells": [
  {
   "cell_type": "markdown",
   "id": "ed0337fe",
   "metadata": {},
   "source": [
    "## Smart Light"
   ]
  },
  {
   "cell_type": "code",
   "execution_count": null,
   "id": "df217819",
   "metadata": {},
   "outputs": [],
   "source": [
    "n=input()\n",
    "\n",
    "x=n.split()\n",
    "\n",
    "y=float(x[0])\n",
    "\n",
    "z=float(x[1])\n",
    "\n",
    "if y>=z:\n",
    "\n",
    "    print(\"ON\")\n",
    "\n",
    "else:\n",
    "    \n",
    "    print(\"OFF\")\n"
   ]
  },
  {
   "cell_type": "markdown",
   "id": "05aacdd3",
   "metadata": {},
   "source": [
    "## Sensor Calibrator — Min-Max Scaling"
   ]
  },
  {
   "cell_type": "code",
   "execution_count": null,
   "id": "65f18c2b",
   "metadata": {},
   "outputs": [],
   "source": [
    "n=input()\n",
    "\n",
    "x=n.split()\n",
    "\n",
    "a=float(x[0])\n",
    "\n",
    "b=float(x[1])\n",
    "\n",
    "c=float(x[2])\n",
    "\n",
    "ans=(a-b)/(c-b)\n",
    "\n",
    "print(f\"{ans:.2f}\")\n",
    "\n"
   ]
  },
  {
   "cell_type": "markdown",
   "id": "e7d88865",
   "metadata": {},
   "source": [
    "## Mini Loss Tracker"
   ]
  },
  {
   "cell_type": "code",
   "execution_count": null,
   "id": "ebcf81a1",
   "metadata": {},
   "outputs": [],
   "source": [
    "n=int(input())\n",
    "\n",
    "f=float(input())\n",
    "\n",
    "l=[]\n",
    "\n",
    "for i in range(n):\n",
    "\n",
    "    s=float(input())\n",
    "\n",
    "    l.append(s)\n",
    "\n",
    "sum=0.00\n",
    "\n",
    "for j in range(n):\n",
    "\n",
    "    sum=sum+l[j]\n",
    "\n",
    "avg=sum/n\n",
    "\n",
    "if avg<=f:\n",
    "\n",
    "    print(\"PASS\")\n",
    "\n",
    "else:\n",
    "\n",
    "    print(\"RETRY\")\n",
    "    "
   ]
  },
  {
   "cell_type": "markdown",
   "id": "ae808303",
   "metadata": {},
   "source": [
    "## Majority Vote Gate"
   ]
  },
  {
   "cell_type": "code",
   "execution_count": null,
   "id": "0eba40d3",
   "metadata": {},
   "outputs": [],
   "source": [
    "n=int(input())\n",
    "\n",
    "l=[]\n",
    "\n",
    "for i in range(n):\n",
    "\n",
    "    s=input()\n",
    "\n",
    "    l.append(s)\n",
    "\n",
    "n=l.count(\"YES\")\n",
    "\n",
    "x=l.count(\"NO\")\n",
    "\n",
    "if n>=x:\n",
    "\n",
    "    print(\"ACCEPT\")\n",
    "\n",
    "else:\n",
    "    \n",
    "    print(\"REJECT\")\n"
   ]
  },
  {
   "cell_type": "markdown",
   "id": "ee6ef0af",
   "metadata": {},
   "source": [
    "## AI Mood Detector"
   ]
  },
  {
   "cell_type": "code",
   "execution_count": null,
   "id": "d5e226f7",
   "metadata": {},
   "outputs": [],
   "source": [
    "n=input()\n",
    "\n",
    "x=n.split()\n",
    "\n",
    "size=int(len(x))\n",
    "\n",
    "happy=['happy','joy','smile']\n",
    "\n",
    "sad=['angry','sad','cry']\n",
    "\n",
    "ans=bool(True)\n",
    "\n",
    "for i in x:\n",
    "\n",
    "    if i in happy:\n",
    "\n",
    "        print(\"Happy Mood\")\n",
    "\n",
    "        ans=False\n",
    "\n",
    "        break\n",
    "\n",
    "    elif i in sad:\n",
    "\n",
    "        print(\"Sad Mood\")\n",
    "\n",
    "        ans=False\n",
    "\n",
    "        break\n",
    "\n",
    "if ans==True:\n",
    "\n",
    "    print(\"Neutral Mood\")\n",
    "    \n"
   ]
  },
  {
   "cell_type": "markdown",
   "id": "8b68f307",
   "metadata": {},
   "source": [
    "## AI Brightness Analyzer"
   ]
  },
  {
   "cell_type": "code",
   "execution_count": null,
   "id": "08715908",
   "metadata": {},
   "outputs": [],
   "source": [
    "\n",
    "n = input()\n",
    "\n",
    "x = n.split()\n",
    "\n",
    "size = len(x)\n",
    "\n",
    "sum = 0.0\n",
    "\n",
    "for i in range(size):\n",
    "\n",
    "    a = float(x[i])\n",
    "\n",
    "    sum += a\n",
    "\n",
    "avg = sum / size\n",
    "\n",
    "if avg < 85:\n",
    "\n",
    "    print(\"Dark Image\")\n",
    "\n",
    "elif avg>=85 and avg <= 170:\n",
    "\n",
    "    print(\"Normal Image\")\n",
    "\n",
    "else:\n",
    "\n",
    "    print(\"Bright Image\")\n",
    "    "
   ]
  },
  {
   "cell_type": "markdown",
   "id": "62551db5",
   "metadata": {},
   "source": [
    "## Ai Bais Model"
   ]
  },
  {
   "cell_type": "code",
   "execution_count": null,
   "id": "19e06ba7",
   "metadata": {},
   "outputs": [],
   "source": [
    "n=input()\n",
    "\n",
    "x=n.split()\n",
    "\n",
    "cnta=0\n",
    "\n",
    "cntb=0\n",
    "\n",
    "size=int(len(x))\n",
    "\n",
    "for i in range(size):\n",
    "\n",
    "    if x[i]=='A':\n",
    "\n",
    "        cnta+=1\n",
    "\n",
    "    else:\n",
    "\n",
    "        cntb+=1\n",
    "\n",
    "if cnta>cntb:\n",
    "\n",
    "    k=float(cnta)/size*100\n",
    "\n",
    "else:\n",
    "\n",
    "    k=float(cntb)/size*100\n",
    "\n",
    "if k>70.0:\n",
    "\n",
    "    print(\"Biased Model\")\n",
    "\n",
    "else:\n",
    "\n",
    "    print(\"Fair Model\")\n",
    "\n"
   ]
  },
  {
   "cell_type": "markdown",
   "id": "a4505ae3",
   "metadata": {},
   "source": [
    "## AI Keyword Counter"
   ]
  },
  {
   "cell_type": "code",
   "execution_count": null,
   "id": "bb0a2d7b",
   "metadata": {},
   "outputs": [],
   "source": [
    "n = input()\n",
    "\n",
    "k = [\"ai\", \"data\", \"model\", \"learn\", \"train\", \"neural\"]\n",
    "\n",
    "x = n.split()\n",
    "\n",
    "size=int(len(x))\n",
    "\n",
    "cnt = 0\n",
    "\n",
    "for word in x:\n",
    "\n",
    "    if word in k:\n",
    "\n",
    "        cnt += 1\n",
    "\n",
    "if cnt >= 2:\n",
    "\n",
    "    print(\"AI Detected\")\n",
    "\n",
    "else:\n",
    "\n",
    "    print(\"Not AI Related\")\n",
    "    \n"
   ]
  }
 ],
 "metadata": {
  "kernelspec": {
   "display_name": "base",
   "language": "python",
   "name": "python3"
  },
  "language_info": {
   "name": "python",
   "version": "3.13.5"
  }
 },
 "nbformat": 4,
 "nbformat_minor": 5
}
