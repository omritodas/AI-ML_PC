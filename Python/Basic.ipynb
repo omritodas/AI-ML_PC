{
 "cells": [
  {
   "cell_type": "markdown",
   "id": "154946e9",
   "metadata": {},
   "source": [
    "## input\n"
   ]
  },
  {
   "cell_type": "code",
   "execution_count": 6,
   "id": "6667c7b6",
   "metadata": {},
   "outputs": [
    {
     "name": "stdout",
     "output_type": "stream",
     "text": [
      "name : omrito\n",
      "Age : 10\n",
      "height 11.2\n"
     ]
    }
   ],
   "source": [
    "name = input(\"your name: \")\n",
    "age = int (input(\"your age\"))\n",
    "height = float(input(\"your height\"))\n",
    "print(\"name :\",name )\n",
    "print(\"Age :\",age)\n",
    "print(\"height\",height)"
   ]
  },
  {
   "cell_type": "code",
   "execution_count": 1,
   "id": "8de128ed",
   "metadata": {},
   "outputs": [
    {
     "name": "stdout",
     "output_type": "stream",
     "text": [
      "1008\n"
     ]
    }
   ],
   "source": [
    "data={\n",
    "    \"user\":{\n",
    "        \"id\":{\n",
    "            \"omrito\":1008,\n",
    "            \"srabon\":1061\n",
    "        },\n",
    "        \"email\":{\n",
    "            \"omrito\":133,\n",
    "            \"srabon\":13\n",
    "        }\n",
    "    }\n",
    "}\n",
    "print(data[\"user\"][\"id\"][\"omrito\"])"
   ]
  },
  {
   "cell_type": "markdown",
   "id": "755ff5e1",
   "metadata": {},
   "source": [
    "## Condition\n",
    "\n"
   ]
  },
  {
   "cell_type": "code",
   "execution_count": 20,
   "id": "6690e6a3",
   "metadata": {},
   "outputs": [
    {
     "name": "stdout",
     "output_type": "stream",
     "text": [
      "Equal\n"
     ]
    }
   ],
   "source": [
    "x=1\n",
    "if x>1:\n",
    "    print(\"true\")\n",
    "elif x<1:\n",
    "    print(\"False\")\n",
    "else:\n",
    "    print(\"Equal\")"
   ]
  },
  {
   "cell_type": "code",
   "execution_count": 21,
   "id": "a3229949",
   "metadata": {},
   "outputs": [
    {
     "name": "stdout",
     "output_type": "stream",
     "text": [
      "Its Raining Outside\n",
      "The soul is Maddy\n"
     ]
    }
   ],
   "source": [
    "raining = True\n",
    "maddy = True\n",
    "if raining== True:\n",
    "    print(\"Its Raining Outside\")\n",
    "    if maddy == True:\n",
    "        print(\"The soul is Maddy\")\n",
    "    else:\n",
    "        print(\"The soul is Not Maddy\")\n",
    "else:\n",
    "    print(\"Its Not Raining Outside\")\n"
   ]
  },
  {
   "cell_type": "code",
   "execution_count": 25,
   "id": "68dcda18",
   "metadata": {},
   "outputs": [
    {
     "name": "stdout",
     "output_type": "stream",
     "text": [
      "You Got : A\n"
     ]
    }
   ],
   "source": [
    "mark = int(input(\"Enter Your Mark : \"))\n",
    "if mark>33:\n",
    "    if mark>33 and mark<=50:\n",
    "        print(\"You Got : D\")\n",
    "    elif mark>50 and mark<=70:\n",
    "        print(\"You Got : C\")\n",
    "    elif mark>70 and mark<=80:\n",
    "        print(\"You Got : B\")\n",
    "    elif mark>80 and mark<=90:\n",
    "        print(\"You Got : A\")\n",
    "    else:\n",
    "        print(\"You Got : A+\")\n",
    "else:\n",
    "    print(\"You Got : F\")"
   ]
  },
  {
   "cell_type": "markdown",
   "id": "3a270444",
   "metadata": {},
   "source": [
    "## Digit sum"
   ]
  },
  {
   "cell_type": "code",
   "execution_count": 13,
   "id": "c60a309b",
   "metadata": {},
   "outputs": [
    {
     "name": "stdout",
     "output_type": "stream",
     "text": [
      "2\n"
     ]
    }
   ],
   "source": [
    "n=input()\n",
    "m=n.split()\n",
    "lenth=len(m[0])\n",
    "lenth1=len(m[1])\n",
    "a=int(m[0][lenth-1])\n",
    "b=int(m[1][lenth1-1])\n",
    "print(a+b)"
   ]
  },
  {
   "cell_type": "markdown",
   "id": "8396ff81",
   "metadata": {},
   "source": [
    "## Loop"
   ]
  },
  {
   "cell_type": "code",
   "execution_count": 3,
   "id": "a4359a58",
   "metadata": {},
   "outputs": [
    {
     "name": "stdout",
     "output_type": "stream",
     "text": [
      "0 0 0\n",
      "0 0 1\n",
      "0 0 2\n",
      "0 1 0\n",
      "0 1 1\n",
      "0 1 2\n",
      "0 2 0\n",
      "0 2 1\n",
      "0 2 2\n",
      "1 0 0\n",
      "1 0 1\n",
      "1 0 2\n",
      "1 1 0\n",
      "1 1 1\n",
      "1 1 2\n",
      "1 2 0\n",
      "1 2 1\n",
      "1 2 2\n",
      "2 0 0\n",
      "2 0 1\n",
      "2 0 2\n",
      "2 1 0\n",
      "2 1 1\n",
      "2 1 2\n",
      "2 2 0\n",
      "2 2 1\n",
      "2 2 2\n"
     ]
    }
   ],
   "source": [
    "for i in range(3):\n",
    "    for j in range(3):\n",
    "        for k in range(3):\n",
    "            print(i,j,k)"
   ]
  },
  {
   "cell_type": "code",
   "execution_count": 5,
   "id": "cbf48869",
   "metadata": {},
   "outputs": [
    {
     "name": "stdout",
     "output_type": "stream",
     "text": [
      "Good Boy\n",
      "Good Boy\n",
      "Good Boy\n",
      "Good Boy\n",
      "Good Boy\n",
      "Good Boy\n",
      "Good Boy\n",
      "Good Boy\n",
      "Good Boy\n"
     ]
    }
   ],
   "source": [
    "x=1\n",
    "\n",
    "while x<10:\n",
    "    print(\"Good Boy\")\n",
    "    x=x+1"
   ]
  },
  {
   "cell_type": "code",
   "execution_count": 44,
   "id": "0374d91d",
   "metadata": {},
   "outputs": [
    {
     "name": "stdout",
     "output_type": "stream",
     "text": [
      "20\n"
     ]
    }
   ],
   "source": [
    "sum=0\n",
    "for i in range(1,10):\n",
    "    if i%2!=0:\n",
    "        continue\n",
    "    sum+=i\n",
    "print(sum)\n"
   ]
  },
  {
   "cell_type": "markdown",
   "id": "4140cf01",
   "metadata": {},
   "source": [
    "## Max And Min"
   ]
  },
  {
   "cell_type": "code",
   "execution_count": 49,
   "id": "d7c921b2",
   "metadata": {},
   "outputs": [
    {
     "name": "stdout",
     "output_type": "stream",
     "text": [
      "3 20\n"
     ]
    }
   ],
   "source": [
    "n=input()\n",
    "num=n.split()\n",
    "x=int(num[0])\n",
    "y=int(num[1])\n",
    "z=int(num[2])\n",
    "min,max\n",
    "\n",
    "if x<=y and x<=z:\n",
    "    min=x\n",
    "elif y<=x and y<=z:\n",
    "    min=y\n",
    "else:\n",
    "    min=z\n",
    "\n",
    "if x>=y and x>=z:\n",
    "    max=x\n",
    "elif y>=x and y>=z:\n",
    "    max=y\n",
    "else:\n",
    "    max=z\n",
    "\n",
    "print(min,max)"
   ]
  },
  {
   "cell_type": "markdown",
   "id": "2e3a2aad",
   "metadata": {},
   "source": [
    "## Even Odd postive Nagetive"
   ]
  },
  {
   "cell_type": "code",
   "execution_count": null,
   "id": "a4dfbc80",
   "metadata": {},
   "outputs": [
    {
     "name": "stdout",
     "output_type": "stream",
     "text": [
      "Even:  3\n",
      "odd:  2\n",
      "Positive:  1\n",
      "Negative:  3\n"
     ]
    }
   ],
   "source": [
    "n=int(input())\n",
    "\n",
    "k=input()\n",
    "num=k.split()\n",
    "can=0\n",
    "can1=0\n",
    "can2=0\n",
    "can3=0\n",
    "for i in range(n):\n",
    "    x=int(num[i])\n",
    "    if x%2==0:\n",
    "        can+=1\n",
    "    if x>0:\n",
    "        can1+=1\n",
    "    if x%2!=0:\n",
    "        can2+=1\n",
    "    if x<0:\n",
    "        can3+=1\n",
    "print(\"Even: \",can)\n",
    "print(\"Odd: \",can2)\n",
    "print(\"Positive: \",can1)\n",
    "print(\"Negative: \",can3)\n",
    "\n"
   ]
  },
  {
   "cell_type": "markdown",
   "id": "ea31fe4e",
   "metadata": {},
   "source": [
    "## Digit Print"
   ]
  },
  {
   "cell_type": "code",
   "execution_count": null,
   "id": "357a92fe",
   "metadata": {},
   "outputs": [
    {
     "name": "stdin",
     "output_type": "stream",
     "text": [
      " 1\n"
     ]
    }
   ],
   "source": [
    "n=int (input())\n",
    "while n>0:\n",
    "    s=input()\n",
    "    x=int(len(s))\n",
    "    for i in range(x):\n",
    "        print(s[i],end=' ')\n",
    "    \n",
    "    n=n-1"
   ]
  },
  {
   "cell_type": "code",
   "execution_count": null,
   "id": "136f387b-8a5b-4e49-9646-afc3a81dc28c",
   "metadata": {},
   "outputs": [],
   "source": []
  }
 ],
 "metadata": {
  "kernelspec": {
   "display_name": "Python 3 (ipykernel)",
   "language": "python",
   "name": "python3"
  },
  "language_info": {
   "codemirror_mode": {
    "name": "ipython",
    "version": 3
   },
   "file_extension": ".py",
   "mimetype": "text/x-python",
   "name": "python",
   "nbconvert_exporter": "python",
   "pygments_lexer": "ipython3",
   "version": "3.13.5"
  }
 },
 "nbformat": 4,
 "nbformat_minor": 5
}
