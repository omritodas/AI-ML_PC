{
 "cells": [
  {
   "cell_type": "markdown",
   "id": "e7254c95",
   "metadata": {},
   "source": [
    "## Same as list But Immutable\n"
   ]
  },
  {
   "cell_type": "code",
   "execution_count": 4,
   "id": "aff22d7d",
   "metadata": {},
   "outputs": [
    {
     "name": "stdout",
     "output_type": "stream",
     "text": [
      "(10, 20, 30, 40)\n",
      "30\n",
      "(10, 20)\n"
     ]
    }
   ],
   "source": [
    "# Decralation\n",
    "\n",
    "tup=(10,20,30,40)\n",
    "\n",
    "print(tup)\n",
    "\n",
    "#Access\n",
    "\n",
    "print(tup[2])\n",
    "\n",
    "#Sclicing\n",
    "\n",
    "tup1=tup[0:2]\n",
    "\n",
    "print(tup1)"
   ]
  }
 ],
 "metadata": {
  "kernelspec": {
   "display_name": "base",
   "language": "python",
   "name": "python3"
  },
  "language_info": {
   "codemirror_mode": {
    "name": "ipython",
    "version": 3
   },
   "file_extension": ".py",
   "mimetype": "text/x-python",
   "name": "python",
   "nbconvert_exporter": "python",
   "pygments_lexer": "ipython3",
   "version": "3.13.5"
  }
 },
 "nbformat": 4,
 "nbformat_minor": 5
}
