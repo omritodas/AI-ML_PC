{
 "cells": [
  {
   "cell_type": "markdown",
   "id": "30ad3d65",
   "metadata": {},
   "source": [
    "## Basic"
   ]
  },
  {
   "cell_type": "code",
   "execution_count": null,
   "id": "f5b5374b",
   "metadata": {},
   "outputs": [
    {
     "name": "stdout",
     "output_type": "stream",
     "text": [
      "{'name': 'omrito', 'age': 23}\n"
     ]
    }
   ],
   "source": [
    "#Declration\n",
    "\n",
    "dec={\n",
    "\n",
    "    \"user\":{\n",
    "\n",
    "        \"details\":{\n",
    "\n",
    "            1:{\n",
    "\n",
    "                \"name\":\"omrito\",\n",
    "\n",
    "                \"age\":23\n",
    "\n",
    "            },\n",
    "\n",
    "            2:{\n",
    "\n",
    "                \"name\":\"srabon\",\n",
    "\n",
    "                \"age\":22\n",
    "\n",
    "            },\n",
    "\n",
    "            3:{\n",
    "\n",
    "                \"name\":\"Nayem\",\n",
    "\n",
    "                \"age\":21\n",
    "\n",
    "            }\n",
    "\n",
    "        }\n",
    "\n",
    "    }\n",
    "\n",
    "}\n",
    "\n",
    "print(dec[\"user\"][\"details\"][1])\n"
   ]
  },
  {
   "cell_type": "markdown",
   "id": "04977c74",
   "metadata": {},
   "source": [
    "## Dectionary Method\n"
   ]
  },
  {
   "cell_type": "code",
   "execution_count": 11,
   "id": "9c7aba8d",
   "metadata": {},
   "outputs": [
    {
     "name": "stdout",
     "output_type": "stream",
     "text": [
      "{'user': {'details': {1: {'name': 'omrito', 'age': 23}, 2: {'name': 'srabon', 'age': 22}, 3: {'name': 'Nayem', 'age': 21}}}, 'phone': {'id': {1: '01233', 2: '02313'}}}\n",
      "{'user': {'details': {1: {'name': 'omrito', 'age': 23}, 2: {'name': 'srabon', 'age': 22}, 3: {'name': 'Nayem', 'age': 21}}}}\n",
      "{'user': {'details': {1: {'name': 'omrito', 'age': 23}, 2: {'name': 'srabon', 'age': 22}, 3: {'name': 'Nayem', 'age': 21}}}}\n"
     ]
    }
   ],
   "source": [
    "#Adding\n",
    "\n",
    "dec[\"phone\"]={\n",
    "\n",
    "    \"id\":{\n",
    "\n",
    "        1:\"01233\",\n",
    "\n",
    "        2:\"02313\"\n",
    "        \n",
    "    }\n",
    "}\n",
    "\n",
    "print(dec)\n",
    "\n",
    "#Dealting\n",
    "\n",
    "del dec[\"phone\"]\n",
    "\n",
    "print(dec)\n",
    "\n",
    "#Copy\n",
    "\n",
    "dec1=dec.copy()\n",
    "\n",
    "print(dec1)"
   ]
  },
  {
   "cell_type": "markdown",
   "id": "80ab6d0c",
   "metadata": {},
   "source": [
    "## Dectionary View Method"
   ]
  },
  {
   "cell_type": "code",
   "execution_count": 15,
   "id": "f091a531",
   "metadata": {},
   "outputs": [
    {
     "name": "stdout",
     "output_type": "stream",
     "text": [
      "dict_keys(['user'])\n",
      "dict_values([{'details': {1: {'name': 'omrito', 'age': 23}, 2: {'name': 'srabon', 'age': 22}, 3: {'name': 'Nayem', 'age': 21}}}])\n",
      "dict_items([('user', {'details': {1: {'name': 'omrito', 'age': 23}, 2: {'name': 'srabon', 'age': 22}, 3: {'name': 'Nayem', 'age': 21}}})])\n",
      "user {'details': {1: {'name': 'omrito', 'age': 23}, 2: {'name': 'srabon', 'age': 22}, 3: {'name': 'Nayem', 'age': 21}}}\n"
     ]
    }
   ],
   "source": [
    "#View Keys\n",
    "\n",
    "keys=dec.keys()\n",
    "\n",
    "print(keys)\n",
    "\n",
    "#View Values\n",
    "\n",
    "value=dec.values()\n",
    "\n",
    "print(value)\n",
    "\n",
    "#View Keys and Values\n",
    "\n",
    "item=dec.items()\n",
    "\n",
    "print(item)\n",
    "\n",
    "#Itarate\n",
    "\n",
    "for key,value in dec.items():\n",
    "    print(key,value)"
   ]
  },
  {
   "cell_type": "markdown",
   "id": "7236ff02",
   "metadata": {},
   "source": [
    "## Dictionary Comprehention\n"
   ]
  },
  {
   "cell_type": "code",
   "execution_count": 23,
   "id": "39feeccf",
   "metadata": {},
   "outputs": [
    {
     "name": "stdout",
     "output_type": "stream",
     "text": [
      "{1: 1, 2: 4, 3: 9, 4: 16, 5: 25, 6: 36, 7: 49, 8: 64, 9: 81}\n",
      "dict_items([((10.5, 11.1), 'Dhaka'), ((12.5, 13.0), 'Shylet'), ((14.5, 17.3), 'Savar')])\n"
     ]
    }
   ],
   "source": [
    "#Key is x and values is x^2\n",
    "\n",
    "square={x:x**2 for x in range(1,10)}\n",
    "\n",
    "print(square)\n",
    "\n",
    "#Exjact Location\n",
    "\n",
    "cordinatio=[(10.5,11.1),(12.5,13.0),(14.5,17.3)]\n",
    "\n",
    "location=[\"Dhaka\",\"Shylet\",\"Savar\"]\n",
    "\n",
    "co_loc={co:loc for co,loc in zip(cordinatio,location)}\n",
    "\n",
    "print((co_loc.items()))\n"
   ]
  }
 ],
 "metadata": {
  "kernelspec": {
   "display_name": "base",
   "language": "python",
   "name": "python3"
  },
  "language_info": {
   "codemirror_mode": {
    "name": "ipython",
    "version": 3
   },
   "file_extension": ".py",
   "mimetype": "text/x-python",
   "name": "python",
   "nbconvert_exporter": "python",
   "pygments_lexer": "ipython3",
   "version": "3.13.5"
  }
 },
 "nbformat": 4,
 "nbformat_minor": 5
}
