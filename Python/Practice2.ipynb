{
 "cells": [
  {
   "cell_type": "markdown",
   "id": "f1b7a1b4",
   "metadata": {},
   "source": [
    "## List of a Unique Number"
   ]
  },
  {
   "cell_type": "code",
   "execution_count": 16,
   "id": "879610e0",
   "metadata": {},
   "outputs": [
    {
     "name": "stdout",
     "output_type": "stream",
     "text": [
      "[10, 20, 30, 40, 20, 60, 40, 50, 60, 70]\n"
     ]
    }
   ],
   "source": [
    "lst = [10,20,30,40,20,60,40,50,60,70]  # Changed 'st' to 'lst'\n",
    "\n",
    "unique_value = set(lst)\n",
    "#lst = list(unique_value)\n",
    "\n",
    "print(lst)"
   ]
  },
  {
   "cell_type": "markdown",
   "id": "2aebf7b5",
   "metadata": {},
   "source": [
    "## Count String Frequency"
   ]
  },
  {
   "cell_type": "code",
   "execution_count": 19,
   "id": "c96ca81a",
   "metadata": {},
   "outputs": [
    {
     "name": "stdout",
     "output_type": "stream",
     "text": [
      "My 1\n",
      "Name 1\n",
      "Is 1\n",
      "Omrito 1\n",
      "Where 1\n",
      "Are 1\n",
      "You 1\n",
      "From 2\n",
      "I 2\n",
      "am 1\n",
      "Bd 1\n",
      "think 1\n",
      "you 1\n",
      "are 1\n",
      "Good 1\n"
     ]
    }
   ],
   "source": [
    "string=\"\"\"My Name Is Omrito\n",
    "Where Are You From\n",
    "I am From Bd\n",
    "I think you are Good\n",
    "\"\"\"\n",
    "string.lower()\n",
    "\n",
    "word=string.split()\n",
    "\n",
    "dec={}\n",
    "\n",
    "for a in word:\n",
    "    dec[a]=dec.get(a,0)+1\n",
    "\n",
    "for key,value in dec.items():\n",
    "    print(key,value)"
   ]
  }
 ],
 "metadata": {
  "kernelspec": {
   "display_name": "base",
   "language": "python",
   "name": "python3"
  },
  "language_info": {
   "codemirror_mode": {
    "name": "ipython",
    "version": 3
   },
   "file_extension": ".py",
   "mimetype": "text/x-python",
   "name": "python",
   "nbconvert_exporter": "python",
   "pygments_lexer": "ipython3",
   "version": "3.13.5"
  }
 },
 "nbformat": 4,
 "nbformat_minor": 5
}
