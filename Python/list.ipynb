{
 "cells": [
  {
   "cell_type": "markdown",
   "id": "4a4a1702",
   "metadata": {},
   "source": [
    "## Basic Of List   "
   ]
  },
  {
   "cell_type": "code",
   "execution_count": 4,
   "id": "4d03fd98",
   "metadata": {},
   "outputs": [
    {
     "name": "stdout",
     "output_type": "stream",
     "text": [
      "[10, 20, 30, 40]\n",
      "[1.4, 2.6, 6.8, 2, 5]\n",
      "['omrito', 'srabon', 'nayem']\n",
      "[1, 2.5, 'omrito']\n"
     ]
    }
   ],
   "source": [
    "#Declaration\n",
    "\n",
    "num=[10,20,30,40] #Int\n",
    "\n",
    "fnum=[1.4,2.6,6.8,2,5] #Float\n",
    "\n",
    "string=['omrito','srabon','nayem'] #String\n",
    "\n",
    "mix=[1,2.5,'omrito'] #Mixed\n",
    "\n",
    "print(num)\n",
    "\n",
    "print(fnum)\n",
    "\n",
    "print(string)\n",
    "\n",
    "print(mix)"
   ]
  },
  {
   "cell_type": "markdown",
   "id": "853d5428",
   "metadata": {},
   "source": [
    "## Method Of List"
   ]
  },
  {
   "cell_type": "code",
   "execution_count": 5,
   "id": "a2eff2a8",
   "metadata": {},
   "outputs": [
    {
     "name": "stdout",
     "output_type": "stream",
     "text": [
      "60\n",
      "[10, 20, 60]\n",
      "[10, 20, 60, 40, 80]\n",
      "[10, 90, 20, 60, 40, 80]\n",
      "[10, 90, 20, 60, 40]\n",
      "[10, 90, 20, 40]\n",
      "[10, 20, 40, 90]\n",
      "[90, 40, 20, 10]\n"
     ]
    }
   ],
   "source": [
    "#mutable\n",
    "\n",
    "num[2]=60\n",
    "\n",
    "print(num[2])\n",
    "\n",
    "#sclcing\n",
    "\n",
    "new_list=num[0:3]\n",
    "\n",
    "print(new_list)\n",
    "\n",
    "# Adding a number in the last\n",
    "\n",
    "num.append(80)\n",
    "\n",
    "print(num)\n",
    "\n",
    "#Adding a number in any position\n",
    "\n",
    "num.insert(1,90)\n",
    "\n",
    "print(num)\n",
    "\n",
    "#remove last element\n",
    "\n",
    "num.pop()\n",
    "\n",
    "print(num)\n",
    "\n",
    "#remove a element\n",
    "\n",
    "num.remove(60)\n",
    "\n",
    "print(num)\n",
    "\n",
    "#sort list acending order\n",
    "\n",
    "num.sort()\n",
    "\n",
    "print(num)\n",
    "\n",
    "#sort list desending order\n",
    "\n",
    "num.sort(reverse=True)\n",
    "\n",
    "print(num)"
   ]
  },
  {
   "cell_type": "markdown",
   "id": "4a4df8b7",
   "metadata": {},
   "source": [
    "## Stack And Queue"
   ]
  },
  {
   "cell_type": "code",
   "execution_count": 6,
   "id": "b41c8d88",
   "metadata": {},
   "outputs": [
    {
     "name": "stdout",
     "output_type": "stream",
     "text": [
      "2\n",
      "3\n"
     ]
    }
   ],
   "source": [
    "#Stack\n",
    "\n",
    "stack=[]\n",
    "\n",
    "stack.append(1)\n",
    "\n",
    "stack.append(2)\n",
    "\n",
    "stack.append(3)\n",
    "\n",
    "stack.append(4)\n",
    "\n",
    "#Removing The Top\n",
    "\n",
    "stack.pop()\n",
    "\n",
    "stack.pop()\n",
    "\n",
    "#Access The Top\n",
    "\n",
    "print(stack[-1])\n",
    "\n",
    "#Queue\n",
    "\n",
    "queue=[]\n",
    "\n",
    "queue.append(1)\n",
    "\n",
    "queue.append(2)\n",
    "\n",
    "queue.append(3)\n",
    "\n",
    "queue.append(4)\n",
    "\n",
    "#Removing The First \n",
    "\n",
    "queue.pop(0)\n",
    "\n",
    "queue.pop(0)\n",
    "\n",
    "#Access\n",
    "\n",
    "print(queue[0])\n"
   ]
  },
  {
   "cell_type": "markdown",
   "id": "2a2a71df",
   "metadata": {},
   "source": [
    "## List Comprehension"
   ]
  },
  {
   "cell_type": "code",
   "execution_count": 8,
   "id": "3b93c92d",
   "metadata": {},
   "outputs": [
    {
     "name": "stdout",
     "output_type": "stream",
     "text": [
      "[0, 2, 4, 6, 8]\n",
      "[0, 4, 8]\n",
      "[0, 4, 8]\n",
      "['MANGO', 'APPLE', 'LICHU']\n"
     ]
    }
   ],
   "source": [
    "#naive \n",
    "\n",
    "even=[]\n",
    "\n",
    "for i in range(10):\n",
    "\n",
    "    if i%2==0:\n",
    "\n",
    "        even.append(i)\n",
    "\n",
    "print(even)\n",
    "\n",
    "#Comprehention\n",
    "\n",
    "li=[x for x in range(10) if x%2==0 and x%4==0]\n",
    "\n",
    "print(li)\n",
    "\n",
    "Sq=[i**2 for i in range(10)]\n",
    "\n",
    "print(li)\n",
    "\n",
    "#string Comprehention\n",
    "\n",
    "fruits=['mango','apple','lichu']\n",
    "\n",
    "s=[fruit.upper() for fruit in fruits]\n",
    "\n",
    "print(s)\n"
   ]
  }
 ],
 "metadata": {
  "kernelspec": {
   "display_name": "base",
   "language": "python",
   "name": "python3"
  },
  "language_info": {
   "codemirror_mode": {
    "name": "ipython",
    "version": 3
   },
   "file_extension": ".py",
   "mimetype": "text/x-python",
   "name": "python",
   "nbconvert_exporter": "python",
   "pygments_lexer": "ipython3",
   "version": "3.13.5"
  }
 },
 "nbformat": 4,
 "nbformat_minor": 5
}
