{
 "cells": [
  {
   "cell_type": "markdown",
   "id": "4a4a1702",
   "metadata": {},
   "source": [
    "## Basic Of List   "
   ]
  },
  {
   "cell_type": "code",
   "execution_count": 9,
   "id": "4d03fd98",
   "metadata": {},
   "outputs": [
    {
     "name": "stdout",
     "output_type": "stream",
     "text": [
      "[10, 20, 30, 40]\n",
      "[1.4, 2.6, 6.8, 2, 5]\n",
      "['omrito', 'srabon', 'nayem']\n",
      "[1, 2.5, 'omrito']\n"
     ]
    }
   ],
   "source": [
    "#Declaration\n",
    "\n",
    "num=[10,20,30,40] #Int\n",
    "\n",
    "fnum=[1.4,2.6,6.8,2,5] #Float\n",
    "\n",
    "string=['omrito','srabon','nayem'] #String\n",
    "\n",
    "mix=[1,2.5,'omrito'] #Mixed\n",
    "\n",
    "print(num)\n",
    "\n",
    "print(fnum)\n",
    "\n",
    "print(string)\n",
    "\n",
    "print(mix)"
   ]
  },
  {
   "cell_type": "markdown",
   "id": "853d5428",
   "metadata": {},
   "source": [
    "## Method Of List"
   ]
  },
  {
   "cell_type": "code",
   "execution_count": null,
   "id": "a2eff2a8",
   "metadata": {},
   "outputs": [
    {
     "name": "stdout",
     "output_type": "stream",
     "text": [
      "30\n",
      "60\n",
      "[10, 20, 60]\n",
      "[10, 20, 60, 40, 80]\n",
      "[10, 90, 20, 60, 40, 80]\n",
      "[10, 90, 20, 60, 40]\n",
      "[10, 90, 20, 40]\n"
     ]
    }
   ],
   "source": [
    "#mutable\n",
    "\n",
    "num[2]=60\n",
    "\n",
    "print(num[2])\n",
    "\n",
    "#sclcing\n",
    "\n",
    "new_list=num[0:3]\n",
    "\n",
    "print(new_list)\n",
    "\n",
    "# Adding a number in the last\n",
    "\n",
    "num.append(80)\n",
    "\n",
    "print(num)\n",
    "\n",
    "#Adding a number in any position\n",
    "\n",
    "num.insert(1,90)\n",
    "\n",
    "print(num)\n",
    "\n",
    "#remove last element\n",
    "\n",
    "num.pop()\n",
    "\n",
    "print(num)\n",
    "\n",
    "#remove a element\n",
    "\n",
    "num.remove(60)\n",
    "\n",
    "print(num)"
   ]
  }
 ],
 "metadata": {
  "kernelspec": {
   "display_name": "base",
   "language": "python",
   "name": "python3"
  },
  "language_info": {
   "codemirror_mode": {
    "name": "ipython",
    "version": 3
   },
   "file_extension": ".py",
   "mimetype": "text/x-python",
   "name": "python",
   "nbconvert_exporter": "python",
   "pygments_lexer": "ipython3",
   "version": "3.13.5"
  }
 },
 "nbformat": 4,
 "nbformat_minor": 5
}
