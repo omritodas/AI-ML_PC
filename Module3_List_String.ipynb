{
 "cells": [
  {
   "cell_type": "markdown",
   "id": "f5a19d75",
   "metadata": {},
   "source": [
    "## indexing And Scleing"
   ]
  },
  {
   "cell_type": "code",
   "execution_count": null,
   "id": "c1f35200",
   "metadata": {},
   "outputs": [
    {
     "name": "stdout",
     "output_type": "stream",
     "text": [
      "H e l l o   w o r l d ! how are you.\n",
      "i am good.\n",
      "what about you.\n",
      "\n",
      "how ar\n",
      "you.\n"
     ]
    }
   ],
   "source": [
    "#Length in for\n",
    "\n",
    "string=\"Hello world!\"\n",
    "n=int(len(string))\n",
    "for i in range(n):\n",
    "    print(string[i],end=\" \")\n",
    "\n",
    "# Scling\n",
    "\n",
    "massage=\"\"\"how are you.\n",
    "i am good.\n",
    "what about you.\n",
    "\"\"\"\n",
    "\n",
    "msg=massage[0:6]\n",
    "msg1=massage[-5:-1]\n",
    "print(msg)\n",
    "print(msg1)\n"
   ]
  },
  {
   "cell_type": "markdown",
   "id": "39bb5ebc",
   "metadata": {},
   "source": [
    "## Method In String"
   ]
  },
  {
   "cell_type": "code",
   "execution_count": 21,
   "id": "c9e8f3ea",
   "metadata": {},
   "outputs": [
    {
     "name": "stdout",
     "output_type": "stream",
     "text": [
      "20\n",
      "True\n",
      "welcome to my string\n",
      "WELCOME TO MY STRING\n",
      "8\n"
     ]
    }
   ],
   "source": [
    "string=\"Welcome to my String\"\n",
    "\n",
    "#Length\n",
    "\n",
    "print(len(string))\n",
    "\n",
    "#Find \n",
    "\n",
    "print(\"my\"in string)\n",
    "\n",
    "#Lower\n",
    "\n",
    "procced_string=string.lower()\n",
    "\n",
    "print(procced_string)\n",
    "\n",
    "#Upper\n",
    "\n",
    "procced_string=string.upper()\n",
    "\n",
    "print(procced_string)\n",
    "\n",
    "#Frist index of Substring\n",
    "\n",
    "index =procced_string.find(\"TO\")\n",
    "\n",
    "print(index)"
   ]
  }
 ],
 "metadata": {
  "kernelspec": {
   "display_name": "base",
   "language": "python",
   "name": "python3"
  },
  "language_info": {
   "codemirror_mode": {
    "name": "ipython",
    "version": 3
   },
   "file_extension": ".py",
   "mimetype": "text/x-python",
   "name": "python",
   "nbconvert_exporter": "python",
   "pygments_lexer": "ipython3",
   "version": "3.13.5"
  }
 },
 "nbformat": 4,
 "nbformat_minor": 5
}
